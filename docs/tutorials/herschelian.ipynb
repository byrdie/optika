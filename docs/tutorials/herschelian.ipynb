{
 "cells": [
  {
   "metadata": {},
   "cell_type": "raw",
   "source": [
    "Herschelian Telescope Tutorial\n",
    "==============================\n",
    "\n",
    "The [Herschelian reflecting telescope](https://en.wikipedia.org/wiki/Reflecting_telescope#Herschelian_telescope)\n",
    "is one of the simplest telescope designs since it has only one reflection and no\n",
    "obscuration surfaces.\n",
    "It works by tilting the primary mirror so that the image sensor does not block\n",
    "the incoming light.\n",
    "This tutorial will demonstrate how to model a Herschelian telescope using\n",
    ":mod:`optika` and investigate its performance"
   ],
   "id": "77546ed03bdf425d"
  },
  {
   "metadata": {},
   "cell_type": "markdown",
   "source": [
    "## Primary mirror\n",
    "\n",
    "We'll start by defining the primary mirror surface parameters.\n",
    "We'll define a fast system:, :math:`f/5`, with a primary mirror radius off 100 mm."
   ],
   "id": "94321098c53b70c1"
  },
  {
   "metadata": {},
   "cell_type": "code",
   "source": [
    "import astropy.units as u\n",
    "\n",
    "# Define the radius of the primary mirror aperture\n",
    "radius_aperture = 100 * u.mm\n",
    "\n",
    "# Define the f-number of the primary mirro\n",
    "f_number = 5"
   ],
   "id": "1c197b7fb02addaa",
   "outputs": [],
   "execution_count": null
  },
  {
   "metadata": {},
   "cell_type": "markdown",
   "source": "So the focal length of the primary is",
   "id": "b43d57178da3a0a"
  },
  {
   "metadata": {},
   "cell_type": "code",
   "source": [
    "focal_length = f_number * radius_aperture\n",
    "focal_length"
   ],
   "id": "ad022a0b65576089",
   "outputs": [],
   "execution_count": null
  },
  {
   "metadata": {},
   "cell_type": "raw",
   "source": "In :mod:`optika`, the shapes ",
   "id": "dd2be92c6360815d"
  },
  {
   "cell_type": "code",
   "id": "initial_id",
   "metadata": {
    "collapsed": true
   },
   "source": "",
   "outputs": [],
   "execution_count": null
  }
 ],
 "metadata": {
  "kernelspec": {
   "display_name": "Python 3",
   "language": "python",
   "name": "python3"
  },
  "language_info": {
   "codemirror_mode": {
    "name": "ipython",
    "version": 2
   },
   "file_extension": ".py",
   "mimetype": "text/x-python",
   "name": "python",
   "nbconvert_exporter": "python",
   "pygments_lexer": "ipython2",
   "version": "2.7.6"
  }
 },
 "nbformat": 4,
 "nbformat_minor": 5
}
