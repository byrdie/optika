{
 "cells": [
  {
   "cell_type": "raw",
   "id": "52c53718",
   "metadata": {
    "raw_mimetype": "text/restructuredtext"
   },
   "source": [
    "Herschelian Telescope Tutorial\n",
    "==============================\n",
    "\n",
    "The `Herschelian reflecting telescope <https://en.wikipedia.org/wiki/Reflecting_telescope#Herschelian_telescope>`_\n",
    "is one of the simplest telescope designs since it has only one reflection and no\n",
    "obscuration surfaces.\n",
    "It works by tilting the primary mirror so that the image sensor does not block\n",
    "the incoming light.\n",
    "This tutorial will demonstrate how to model a Herschelian telescope using\n",
    ":mod:`optika` and investigate its performance"
   ]
  },
  {
   "cell_type": "code",
   "execution_count": null,
   "id": "c51efaee",
   "metadata": {},
   "outputs": [],
   "source": [
    "import matplotlib.pyplot as plt\n",
    "import astropy.units as u\n",
    "import astropy.visualization\n",
    "import named_arrays as na\n",
    "import optika"
   ]
  },
  {
   "cell_type": "raw",
   "id": "d48aad15",
   "metadata": {
    "raw_mimetype": "text/restructuredtext"
   },
   "source": [
    "Primary mirror\n",
    "--------------\n",
    "\n",
    "We'll start by defining the primary mirror aperture radius"
   ]
  },
  {
   "cell_type": "code",
   "execution_count": null,
   "id": "1c197b7fb02addaa",
   "metadata": {
    "ExecuteTime": {
     "end_time": "2024-10-09T23:05:37.392486Z",
     "start_time": "2024-10-09T23:05:36.986489Z"
    }
   },
   "outputs": [],
   "source": [
    "radius_aperture = 100 * u.mm"
   ]
  },
  {
   "cell_type": "raw",
   "id": "d3e794df",
   "metadata": {
    "raw_mimetype": "text/restructuredtext"
   },
   "source": [
    "and the :math:`f`-number of the primary mirror"
   ]
  },
  {
   "cell_type": "code",
   "execution_count": null,
   "id": "439c0857",
   "metadata": {},
   "outputs": [],
   "source": [
    "f_number = 10"
   ]
  },
  {
   "cell_type": "markdown",
   "id": "b43d57178da3a0a",
   "metadata": {},
   "source": [
    "So the focal length of the primary is then"
   ]
  },
  {
   "cell_type": "code",
   "execution_count": null,
   "id": "ad022a0b65576089",
   "metadata": {
    "ExecuteTime": {
     "end_time": "2024-10-09T23:05:42.415570Z",
     "start_time": "2024-10-09T23:05:42.409067Z"
    }
   },
   "outputs": [],
   "source": [
    "focal_length = f_number * radius_aperture\n",
    "focal_length"
   ]
  },
  {
   "cell_type": "raw",
   "id": "dd2be92c6360815d",
   "metadata": {
    "raw_mimetype": "text/restructuredtext"
   },
   "source": [
    "We can specify a parabolic sag profile for our primary mirror using the :class:`optika.sags.ParabolicSag` class"
   ]
  },
  {
   "cell_type": "code",
   "execution_count": null,
   "id": "initial_id",
   "metadata": {},
   "outputs": [],
   "source": [
    "sag_primary = optika.sags.ParabolicSag(-focal_length)"
   ]
  },
  {
   "cell_type": "raw",
   "id": "c71304a5",
   "metadata": {
    "raw_mimetype": "text/restructuredtext"
   },
   "source": [
    "For simplicity, we will consider the primary mirror to be a perfectly-reflective mirror,\n",
    "which we can reprsent with :class:`optika.materials.Mirror`."
   ]
  },
  {
   "cell_type": "code",
   "execution_count": null,
   "id": "795088ac",
   "metadata": {},
   "outputs": [],
   "source": [
    "material_primary = optika.materials.Mirror()"
   ]
  },
  {
   "cell_type": "raw",
   "id": "ac85c04a",
   "metadata": {
    "raw_mimetype": "text/restructuredtext"
   },
   "source": [
    "To specify a circular apeture for our primary mirror, we can use :class:`optika.apertures.CircularAperture`."
   ]
  },
  {
   "cell_type": "code",
   "execution_count": null,
   "id": "34cc0611",
   "metadata": {},
   "outputs": [],
   "source": [
    "aperture_primary = optika.apertures.CircularAperture(radius_aperture)"
   ]
  },
  {
   "cell_type": "raw",
   "id": "86945d16",
   "metadata": {
    "raw_mimetype": "text/restructuredtext"
   },
   "source": [
    "Finally, we can specify the position and orientation of the primary mirror using the\n",
    ":mod:`named_arrays.transformations` module.\n",
    "To translate the primary mirror one focal length away from the origin, we use :class:`named_arrays.transformations.Cartesian3dTranslation`."
   ]
  },
  {
   "cell_type": "code",
   "execution_count": null,
   "id": "eab24d4d",
   "metadata": {},
   "outputs": [],
   "source": [
    "translation_primary = na.transformations.Cartesian3dTranslation(z=focal_length)"
   ]
  },
  {
   "cell_type": "raw",
   "id": "cc6ff694",
   "metadata": {
    "raw_mimetype": "text/restructuredtext"
   },
   "source": [
    "and to rotate the primary about the :math:`x` axis we can use :class:`named_arrays.transformations.Cartesian3dRotationX`"
   ]
  },
  {
   "cell_type": "code",
   "execution_count": null,
   "id": "fe2bd57f",
   "metadata": {},
   "outputs": [],
   "source": [
    "angle_primary = 5 * u.deg\n",
    "rotation_primary = na.transformations.Cartesian3dRotationX(angle_primary)"
   ]
  },
  {
   "cell_type": "raw",
   "id": "0952546c",
   "metadata": {
    "raw_mimetype": "text/restructuredtext"
   },
   "source": [
    "To compose these two transformations into one transformation, we can use the matrix multiplication operator"
   ]
  },
  {
   "cell_type": "code",
   "execution_count": null,
   "id": "f0d3288e",
   "metadata": {},
   "outputs": [],
   "source": [
    "transformation_primary = translation_primary @ rotation_primary"
   ]
  },
  {
   "cell_type": "raw",
   "id": "ddad03e2",
   "metadata": {
    "raw_mimetype": "text/restructuredtext"
   },
   "source": [
    "We can combine the sag profile, aperture shape, material type, and coordinate transformation into one object to represent the primary mirror,\n",
    "an instance of :class:`optika.surfaces.Surface`."
   ]
  },
  {
   "cell_type": "code",
   "execution_count": null,
   "id": "e443793a",
   "metadata": {},
   "outputs": [],
   "source": [
    "primary = optika.surfaces.Surface(\n",
    "    name=\"primary\",\n",
    "    sag=sag_primary,\n",
    "    material=material_primary,\n",
    "    aperture=aperture_primary,\n",
    "    transformation=transformation_primary,\n",
    "    is_pupil_stop=True,\n",
    ")"
   ]
  },
  {
   "cell_type": "raw",
   "id": "b5ee8185",
   "metadata": {
    "raw_mimetype": "text/restructuredtext"
   },
   "source": [
    "The ``is_pupil_stop=True`` statement in the previous cell sets the primary mirror as the pupil stop,\n",
    "the surface that controls the size of the entrance pupil."
   ]
  },
  {
   "cell_type": "raw",
   "id": "3bdef35c",
   "metadata": {
    "raw_mimetype": "text/restructuredtext"
   },
   "source": [
    "Sensor\n",
    "------\n",
    "\n",
    "If the size of each pixel in the sensor is"
   ]
  },
  {
   "cell_type": "code",
   "execution_count": null,
   "id": "adcc2388",
   "metadata": {},
   "outputs": [],
   "source": [
    "width_pixel = 15 * u.um"
   ]
  },
  {
   "cell_type": "raw",
   "id": "e509b17d",
   "metadata": {
    "raw_mimetype": "text/restructuredtext"
   },
   "source": [
    "The number of pixels along each axis is"
   ]
  },
  {
   "cell_type": "code",
   "execution_count": null,
   "id": "78e0156b",
   "metadata": {},
   "outputs": [],
   "source": [
    "num_pixel = na.Cartesian2dVectorArray(256, 256)"
   ]
  },
  {
   "cell_type": "raw",
   "id": "ef2aa0c9",
   "metadata": {
    "raw_mimetype": "text/restructuredtext"
   },
   "source": [
    "The name of each axis of the pixel array is"
   ]
  },
  {
   "cell_type": "code",
   "execution_count": null,
   "id": "25263752",
   "metadata": {},
   "outputs": [],
   "source": [
    "axis_pixel = na.Cartesian2dVectorArray(\"detector_x\", \"detector_y\")"
   ]
  },
  {
   "cell_type": "raw",
   "id": "3849633a",
   "metadata": {
    "raw_mimetype": "text/restructuredtext"
   },
   "source": [
    "The location and orientation of the sensor can be found by translating to the location of the primary mirror,\n",
    "rotate by twice the angle of the primary, and then translate back to the new origin."
   ]
  },
  {
   "cell_type": "code",
   "execution_count": null,
   "id": "548109f9",
   "metadata": {},
   "outputs": [],
   "source": [
    "rotation_flip = na.transformations.Cartesian3dRotationX(180 * u.deg)\n",
    "rotation_sensor = rotation_primary @ rotation_flip @ rotation_primary\n",
    "transformation_sensor_axis = translation_primary @ rotation_sensor\n",
    "transformation_sensor = transformation_sensor_axis @ translation_primary"
   ]
  },
  {
   "cell_type": "raw",
   "id": "6122d363",
   "metadata": {
    "raw_mimetype": "text/restructuredtext"
   },
   "source": [
    "Putting it all together, we can represent the sensor using :class:`optika.sensors.ImagingSensor`"
   ]
  },
  {
   "cell_type": "code",
   "execution_count": null,
   "id": "4fb3940a",
   "metadata": {},
   "outputs": [],
   "source": [
    "sensor = optika.sensors.ImagingSensor(\n",
    "    name=\"sensor\",\n",
    "    width_pixel=width_pixel,\n",
    "    axis_pixel=axis_pixel,\n",
    "    num_pixel=num_pixel,\n",
    "    transformation=transformation_sensor,\n",
    "    is_field_stop=True,\n",
    ")"
   ]
  },
  {
   "cell_type": "raw",
   "id": "e1fd2751",
   "metadata": {
    "raw_mimetype": "text/restructuredtext"
   },
   "source": [
    "The ``is_field_stop=True`` statement in the previous cell sets the sensor as the field stop,\n",
    "the surface that controls the size of the field of view\n",
    "\n",
    "Input rays\n",
    "----------\n",
    "\n",
    "The position and direction of the input rays is specified in terms\n",
    "of normalized coordinates.\n",
    "We can specify a uniform normlized pupil grid withSS"
   ]
  },
  {
   "cell_type": "code",
   "execution_count": null,
   "id": "0b89e83c",
   "metadata": {},
   "outputs": [],
   "source": [
    "pupil = na.Cartesian2dVectorLinearSpace(\n",
    "    start=-1,\n",
    "    stop=1,\n",
    "    axis=na.Cartesian2dVectorArray(\"px\", \"py\"),\n",
    "    num=5,\n",
    "    centers=True,\n",
    ")"
   ]
  },
  {
   "cell_type": "raw",
   "id": "e791e04f",
   "metadata": {
    "raw_mimetype": "text/restructuredtext"
   },
   "source": [
    "a normalized field grid with"
   ]
  },
  {
   "cell_type": "code",
   "execution_count": null,
   "id": "247434dc",
   "metadata": {},
   "outputs": [],
   "source": [
    "field = na.Cartesian2dVectorLinearSpace(\n",
    "    start=-1,\n",
    "    stop=1,\n",
    "    axis=na.Cartesian2dVectorArray(\"fx\", \"fy\"),\n",
    "    num=5,\n",
    "    centers=True,\n",
    ")"
   ]
  },
  {
   "cell_type": "raw",
   "id": "7c458790",
   "metadata": {
    "raw_mimetype": "text/restructuredtext"
   },
   "source": [
    "and assume a constant wavelength"
   ]
  },
  {
   "cell_type": "code",
   "execution_count": null,
   "id": "e221a73e",
   "metadata": {},
   "outputs": [],
   "source": [
    "wavelength = 500 * u.nm"
   ]
  },
  {
   "cell_type": "raw",
   "id": "f9467218",
   "metadata": {
    "raw_mimetype": "text/restructuredtext"
   },
   "source": [
    ":mod:`optika` provides a vector type for representing a point in wavelength/field/pupil space,\n",
    ":class:`optika.vectors.ObjectVectorArray`"
   ]
  },
  {
   "cell_type": "code",
   "execution_count": null,
   "id": "cdf2d4c6",
   "metadata": {},
   "outputs": [],
   "source": [
    "grid_input = optika.vectors.ObjectVectorArray(\n",
    "    wavelength=wavelength,\n",
    "    field=field,\n",
    "    pupil=pupil,\n",
    ")"
   ]
  },
  {
   "cell_type": "raw",
   "id": "d85a6390",
   "metadata": {
    "raw_mimetype": "text/restructuredtext"
   },
   "source": [
    "Building the system\n",
    "-------------------\n",
    "\n",
    ":class:`optika.systems.SequentialSystem`\n",
    "is a composition of the optical surfaces and the input ray grid."
   ]
  },
  {
   "cell_type": "code",
   "execution_count": null,
   "id": "4c89722e",
   "metadata": {},
   "outputs": [],
   "source": [
    "system = optika.systems.SequentialSystem(\n",
    "    surfaces=[\n",
    "        primary,\n",
    "    ],\n",
    "    sensor=sensor,\n",
    "    grid_input=grid_input,\n",
    ")"
   ]
  },
  {
   "cell_type": "raw",
   "id": "7386e632",
   "metadata": {
    "raw_mimetype": "text/restructuredtext"
   },
   "source": [
    "We can plot the system using the :meth:`optika.systems.SequentialSystem.plot` method."
   ]
  },
  {
   "cell_type": "code",
   "execution_count": null,
   "id": "9c1e5a73",
   "metadata": {
    "scrolled": false
   },
   "outputs": [],
   "source": [
    "# plot the system\n",
    "with astropy.visualization.quantity_support():\n",
    "    fig, ax = plt.subplots(constrained_layout=True)\n",
    "    ax.set_aspect(\"equal\")\n",
    "    system.plot(\n",
    "        ax=ax,\n",
    "        components=(\"z\", \"y\"),\n",
    "        kwargs_rays=dict(\n",
    "            color=\"tab:blue\",\n",
    "        ),\n",
    "        color=\"black\",\n",
    "        zorder=10,\n",
    "    )"
   ]
  },
  {
   "cell_type": "raw",
   "id": "8151460c",
   "metadata": {
    "raw_mimetype": "text/restructuredtext"
   },
   "source": [
    "Focus curve\n",
    "-----------\n",
    "\n",
    "To create a focus curve, we need to measure the sp"
   ]
  },
  {
   "cell_type": "raw",
   "id": "401f7b57",
   "metadata": {
    "raw_mimetype": "text/restructuredtext"
   },
   "source": [
    "Spot Diagrams\n",
    "-------------\n",
    "\n",
    "To plot a diagram of the different spots,\n",
    "we need to load the final position of the rays from the simulation\n",
    "and plot them using :mod:`matplotlib`.\n",
    "\n",
    "We can access the final position of the rays on the sensor using the\n",
    ":attr:`optika.systems.SequentialSystem.rayfunction_default` attribute.\n",
    "`rayfunction_default` is an instance of a :class:`named_arrays.FunctionArray`,\n",
    "an array that is a composition two other arrays: `input` and `output`."
   ]
  },
  {
   "cell_type": "code",
   "execution_count": null,
   "id": "cd9af872",
   "metadata": {},
   "outputs": [],
   "source": [
    "position = system.rayfunction_default.outputs.position"
   ]
  },
  {
   "cell_type": "raw",
   "id": "6918e569",
   "metadata": {
    "raw_mimetype": "text/restructuredtext"
   },
   "source": [
    "It can be helpful to subtract off the centroid of each PSF to compare them"
   ]
  },
  {
   "cell_type": "code",
   "execution_count": null,
   "id": "bc93de49",
   "metadata": {},
   "outputs": [],
   "source": [
    "position_relative = position - position.mean(pupil.axes)"
   ]
  },
  {
   "cell_type": "raw",
   "id": "f1eccb5b",
   "metadata": {
    "raw_mimetype": "text/restructuredtext"
   },
   "source": [
    "To easily plot an array of PSFs for each field position,\n",
    "we can use :func:`named_arrays.plt.scatter`,\n",
    "which allows broadcasting over arrays of \n",
    ":class:`matplotlib.axes.Axes` instances."
   ]
  },
  {
   "cell_type": "code",
   "execution_count": null,
   "id": "b3bc3424",
   "metadata": {},
   "outputs": [],
   "source": [
    "with astropy.visualization.quantity_support():\n",
    "    fig, ax = na.plt.subplots(\n",
    "        axis_rows=field.axis.x,\n",
    "        axis_cols=field.axis.y,\n",
    "        nrows=field.num,\n",
    "        ncols=field.num,\n",
    "        sharex=True,\n",
    "        sharey=True,\n",
    "        constrained_layout=True,\n",
    "    )\n",
    "    na.plt.scatter(\n",
    "        position_relative.x,\n",
    "        position_relative.y,\n",
    "        ax=ax,\n",
    "    )"
   ]
  },
  {
   "cell_type": "code",
   "execution_count": null,
   "id": "516a6ef0",
   "metadata": {},
   "outputs": [],
   "source": []
  }
 ],
 "metadata": {
  "celltoolbar": "Raw Cell Format",
  "kernelspec": {
   "display_name": "Python 3 (ipykernel)",
   "language": "python",
   "name": "python3"
  },
  "language_info": {
   "codemirror_mode": {
    "name": "ipython",
    "version": 3
   },
   "file_extension": ".py",
   "mimetype": "text/x-python",
   "name": "python",
   "nbconvert_exporter": "python",
   "pygments_lexer": "ipython3",
   "version": "3.11.1"
  }
 },
 "nbformat": 4,
 "nbformat_minor": 5
}
