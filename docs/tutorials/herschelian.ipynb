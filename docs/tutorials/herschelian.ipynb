{
 "cells": [
  {
   "cell_type": "raw",
   "id": "75d97cf9",
   "metadata": {
    "raw_mimetype": "text/restructuredtext"
   },
   "source": [
    "Herschelian Telescope Tutorial\n",
    "==============================\n",
    "\n",
    "The `Herschelian reflecting telescope <https://en.wikipedia.org/wiki/Reflecting_telescope#Herschelian_telescope>`_\n",
    "is one of the simplest telescope designs since it has only one reflection and no\n",
    "obscuration surfaces.\n",
    "It works by tilting the primary mirror so that the image sensor does not block\n",
    "the incoming light.\n",
    "This tutorial will demonstrate how to model a Herschelian telescope using\n",
    ":mod:`optika` and investigate its performance"
   ]
  },
  {
   "cell_type": "raw",
   "id": "68452b2e",
   "metadata": {
    "raw_mimetype": "text/restructuredtext"
   },
   "source": [
    "Primary mirror\n",
    "--------------\n",
    "\n",
    "We'll start by defining the primary mirror surface parameters.\n",
    "We'll define a fast system:, :math:`f/5`, with a primary mirror radius off 100 mm."
   ]
  },
  {
   "cell_type": "code",
   "execution_count": null,
   "id": "1c197b7fb02addaa",
   "metadata": {
    "ExecuteTime": {
     "end_time": "2024-10-09T23:05:37.392486Z",
     "start_time": "2024-10-09T23:05:36.986489Z"
    }
   },
   "outputs": [],
   "source": [
    "import astropy.units as u\n",
    "\n",
    "# Define the radius of the primary mirror aperture\n",
    "radius_aperture = 100 * u.mm\n",
    "\n",
    "# Define the f-number of the primary mirro\n",
    "f_number = 5"
   ]
  },
  {
   "cell_type": "markdown",
   "id": "b43d57178da3a0a",
   "metadata": {},
   "source": [
    "So the focal length of the primary is"
   ]
  },
  {
   "cell_type": "code",
   "execution_count": null,
   "id": "ad022a0b65576089",
   "metadata": {
    "ExecuteTime": {
     "end_time": "2024-10-09T23:05:42.415570Z",
     "start_time": "2024-10-09T23:05:42.409067Z"
    }
   },
   "outputs": [],
   "source": [
    "focal_length = f_number * radius_aperture\n",
    "focal_length"
   ]
  },
  {
   "cell_type": "raw",
   "id": "dd2be92c6360815d",
   "metadata": {
    "raw_mimetype": "text/restructuredtext"
   },
   "source": [
    "In :mod:`optika`, the shapes "
   ]
  },
  {
   "cell_type": "code",
   "execution_count": null,
   "id": "initial_id",
   "metadata": {},
   "outputs": [],
   "source": []
  }
 ],
 "metadata": {
  "celltoolbar": "Raw Cell Format",
  "kernelspec": {
   "display_name": "Python 3 (ipykernel)",
   "language": "python",
   "name": "python3"
  },
  "language_info": {
   "codemirror_mode": {
    "name": "ipython",
    "version": 3
   },
   "file_extension": ".py",
   "mimetype": "text/x-python",
   "name": "python",
   "nbconvert_exporter": "python",
   "pygments_lexer": "ipython3",
   "version": "3.11.1"
  }
 },
 "nbformat": 4,
 "nbformat_minor": 5
}
