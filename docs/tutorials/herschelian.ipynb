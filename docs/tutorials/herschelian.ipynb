{
 "cells": [
  {
   "cell_type": "raw",
   "id": "e7aed098",
   "metadata": {
    "raw_mimetype": "text/restructuredtext"
   },
   "source": [
    "Herschelian Telescope Tutorial\n",
    "==============================\n",
    "\n",
    "The `Herschelian reflecting telescope <https://en.wikipedia.org/wiki/Reflecting_telescope#Herschelian_telescope>`_\n",
    "is one of the simplest telescope designs since it has only one reflection and no\n",
    "obscuration surfaces.\n",
    "It works by tilting the primary mirror so that the image sensor does not block\n",
    "the incoming light.\n",
    "This tutorial will demonstrate how to model a Herschelian telescope using\n",
    ":mod:`optika` and investigate its performance"
   ]
  },
  {
   "cell_type": "code",
   "execution_count": null,
   "id": "7afa5cbe",
   "metadata": {},
   "outputs": [],
   "source": [
    "import matplotlib.pyplot as plt\n",
    "import astropy.units as u\n",
    "import astropy.visualization\n",
    "import named_arrays as na\n",
    "import optika"
   ]
  },
  {
   "cell_type": "raw",
   "id": "7fd1cf17",
   "metadata": {
    "raw_mimetype": "text/restructuredtext"
   },
   "source": [
    "Primary mirror\n",
    "--------------\n",
    "\n",
    "We'll start by defining the primary mirror aperture radius"
   ]
  },
  {
   "cell_type": "code",
   "execution_count": null,
   "id": "1c197b7fb02addaa",
   "metadata": {
    "ExecuteTime": {
     "end_time": "2024-10-09T23:05:37.392486Z",
     "start_time": "2024-10-09T23:05:36.986489Z"
    }
   },
   "outputs": [],
   "source": [
    "radius_aperture = 100 * u.mm"
   ]
  },
  {
   "cell_type": "raw",
   "id": "cf2bc3df",
   "metadata": {
    "raw_mimetype": "text/restructuredtext"
   },
   "source": [
    "and the :math:`f`-number of the primary mirror"
   ]
  },
  {
   "cell_type": "code",
   "execution_count": null,
   "id": "9b150ba5",
   "metadata": {},
   "outputs": [],
   "source": [
    "f_number = 5"
   ]
  },
  {
   "cell_type": "markdown",
   "id": "b43d57178da3a0a",
   "metadata": {},
   "source": [
    "So the focal length of the primary is then"
   ]
  },
  {
   "cell_type": "code",
   "execution_count": null,
   "id": "ad022a0b65576089",
   "metadata": {
    "ExecuteTime": {
     "end_time": "2024-10-09T23:05:42.415570Z",
     "start_time": "2024-10-09T23:05:42.409067Z"
    }
   },
   "outputs": [],
   "source": [
    "focal_length = f_number * radius_aperture\n",
    "focal_length"
   ]
  },
  {
   "cell_type": "raw",
   "id": "dd2be92c6360815d",
   "metadata": {
    "raw_mimetype": "text/restructuredtext"
   },
   "source": [
    "We can specify a parabolic sag profile for our primary mirror using the :class:`optika.sags.ParabolicSag` class"
   ]
  },
  {
   "cell_type": "code",
   "execution_count": null,
   "id": "initial_id",
   "metadata": {},
   "outputs": [],
   "source": [
    "sag_primary = optika.sags.ParabolicSag(focal_length)"
   ]
  },
  {
   "cell_type": "raw",
   "id": "1ed9c9f2",
   "metadata": {
    "raw_mimetype": "text/restructuredtext"
   },
   "source": [
    "For simplicity, we will consider the primary mirror to be a perfectly-reflective mirror,\n",
    "which we can reprsent with :class:`optika.materials.Mirror`."
   ]
  },
  {
   "cell_type": "code",
   "execution_count": null,
   "id": "97ab7a68",
   "metadata": {},
   "outputs": [],
   "source": [
    "material_primary = optika.materials.Mirror()"
   ]
  },
  {
   "cell_type": "raw",
   "id": "099a9e87",
   "metadata": {
    "raw_mimetype": "text/restructuredtext"
   },
   "source": [
    "To specify a circular apeture for our primary mirror, we can use :class:`optika.apertures.CircularAperture`."
   ]
  },
  {
   "cell_type": "code",
   "execution_count": null,
   "id": "419af152",
   "metadata": {},
   "outputs": [],
   "source": [
    "aperture_primary = optika.apertures.CircularAperture(radius_aperture)"
   ]
  },
  {
   "cell_type": "raw",
   "id": "c32f51be",
   "metadata": {
    "raw_mimetype": "text/restructuredtext"
   },
   "source": [
    "Finally, we can specify the position and orientation of the primary mirror using the\n",
    ":mod:`named_arrays.transformations` module.\n",
    "To translate the primary mirror one focal length away from the origin, we use :class:`named_arrays.transformations.Cartesian3dTranslation`."
   ]
  },
  {
   "cell_type": "code",
   "execution_count": null,
   "id": "4857d3fa",
   "metadata": {},
   "outputs": [],
   "source": [
    "translation_primary = na.transformations.Cartesian3dTranslation(z=focal_length)"
   ]
  },
  {
   "cell_type": "raw",
   "id": "68ec7c3d",
   "metadata": {
    "raw_mimetype": "text/restructuredtext"
   },
   "source": [
    "and to rotate the primary about the :math:`x` axis we can use :class:`named_arrays.transformations.Cartesian3dRotationX`"
   ]
  },
  {
   "cell_type": "code",
   "execution_count": null,
   "id": "75fc0e8b",
   "metadata": {},
   "outputs": [],
   "source": [
    "angle_primary = 15 * u.deg\n",
    "rotation_primary = na.transformations.Cartesian3dRotationX(angle_primary)"
   ]
  },
  {
   "cell_type": "raw",
   "id": "0e9b42b0",
   "metadata": {
    "raw_mimetype": "text/restructuredtext"
   },
   "source": [
    "To compose these two transformations into one transformation, we can use the matrix multiplication operator"
   ]
  },
  {
   "cell_type": "code",
   "execution_count": null,
   "id": "e5000b14",
   "metadata": {},
   "outputs": [],
   "source": [
    "transformation_primary = translation_primary @ rotation_primary"
   ]
  },
  {
   "cell_type": "raw",
   "id": "8e1df472",
   "metadata": {
    "raw_mimetype": "text/restructuredtext"
   },
   "source": [
    "We can combine the sag profile, aperture shape, material type, and coordinate transformation into one object to represent the primary mirror,\n",
    "an instance of class:`optika.surfaces.Surface`."
   ]
  },
  {
   "cell_type": "code",
   "execution_count": null,
   "id": "fe507584",
   "metadata": {},
   "outputs": [],
   "source": [
    "primary = optika.surfaces.Surface(\n",
    "    name=\"primary\",\n",
    "    sag=sag_primary,\n",
    "    material=material_primary,\n",
    "    aperture=aperture_primary,\n",
    "    transformation=transformation_primary,\n",
    "    is_pupil_stop=True,\n",
    ")"
   ]
  },
  {
   "cell_type": "raw",
   "id": "20cad568",
   "metadata": {
    "raw_mimetype": "text/restructuredtext"
   },
   "source": [
    "The ``is_pupil_stop=True`` statement in the previous cell sets the primary mirror as the pupil stop,\n",
    "the surface that controls the size of the entrance pupil."
   ]
  },
  {
   "cell_type": "raw",
   "id": "faad3703",
   "metadata": {
    "raw_mimetype": "text/restructuredtext"
   },
   "source": [
    "Sensor\n",
    "------\n",
    "\n",
    "If the size of each pixel in the sensor is"
   ]
  },
  {
   "cell_type": "code",
   "execution_count": null,
   "id": "f5c4e26f",
   "metadata": {},
   "outputs": [],
   "source": [
    "width_pixel = 15 * u.um"
   ]
  },
  {
   "cell_type": "raw",
   "id": "6eca669c",
   "metadata": {
    "raw_mimetype": "text/restructuredtext"
   },
   "source": [
    "The number of pixels along each axis is"
   ]
  },
  {
   "cell_type": "code",
   "execution_count": null,
   "id": "3aeb8b2f",
   "metadata": {},
   "outputs": [],
   "source": [
    "num_pixel = na.Cartesian3dVectorArray(256, 256)"
   ]
  },
  {
   "cell_type": "raw",
   "id": "f04820b4",
   "metadata": {
    "raw_mimetype": "text/restructuredtext"
   },
   "source": [
    "The name of each axis of the pixel array is"
   ]
  },
  {
   "cell_type": "code",
   "execution_count": null,
   "id": "81cb6fb0",
   "metadata": {},
   "outputs": [],
   "source": [
    "axis_pixel = na.Cartesian3dVectorArray(\"detector_x\", \"detector_y\")"
   ]
  },
  {
   "cell_type": "raw",
   "id": "07085d3a",
   "metadata": {
    "raw_mimetype": "text/restructuredtext"
   },
   "source": [
    "The location and orientation of the sensor can be found by translating to the location of the primary mirror,\n",
    "rotate by twice the angle of the primary, and then translate back to the new origin."
   ]
  },
  {
   "cell_type": "code",
   "execution_count": null,
   "id": "597d9f3d",
   "metadata": {},
   "outputs": [],
   "source": [
    "angle_sensor = 180 * u.deg - 2 * angle_primary\n",
    "rotation_sensor = na.transformations.Cartesian3dRotationX(angle_sensor)\n",
    "transformation_sensor = translation_primary.inverse @ rotation_sensor @ translation_primary"
   ]
  },
  {
   "cell_type": "raw",
   "id": "7871fb0e",
   "metadata": {
    "raw_mimetype": "text/restructuredtext"
   },
   "source": [
    "Putting it all together, we can represent the sensor using :class:`optika.sensors.ImagingSensor`"
   ]
  },
  {
   "cell_type": "code",
   "execution_count": null,
   "id": "3f5d042d",
   "metadata": {},
   "outputs": [],
   "source": [
    "sensor = optika.sensors.ImagingSensor(\n",
    "    name=\"sensor\",\n",
    "    width_pixel=width_pixel,\n",
    "    axis_pixel=axis_pixel,\n",
    "    num_pixel=num_pixel,\n",
    "    transformation=transformation_sensor,\n",
    "    is_field_stop=True,\n",
    ")"
   ]
  },
  {
   "cell_type": "raw",
   "id": "f67e9ba2",
   "metadata": {
    "raw_mimetype": "text/restructuredtext"
   },
   "source": [
    "The ``is_field_stop=True`` statement in the previous cell sets the sensor as the field stop,\n",
    "the surface that controls the size of the field of view"
   ]
  },
  {
   "cell_type": "code",
   "execution_count": null,
   "id": "13b0c5b9",
   "metadata": {},
   "outputs": [],
   "source": []
  }
 ],
 "metadata": {
  "celltoolbar": "Raw Cell Format",
  "kernelspec": {
   "display_name": "Python 3 (ipykernel)",
   "language": "python",
   "name": "python3"
  },
  "language_info": {
   "codemirror_mode": {
    "name": "ipython",
    "version": 3
   },
   "file_extension": ".py",
   "mimetype": "text/x-python",
   "name": "python",
   "nbconvert_exporter": "python",
   "pygments_lexer": "ipython3",
   "version": "3.11.1"
  }
 },
 "nbformat": 4,
 "nbformat_minor": 5
}
